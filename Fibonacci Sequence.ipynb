{
 "cells": [
  {
   "cell_type": "code",
   "execution_count": 9,
   "metadata": {},
   "outputs": [],
   "source": [
    "# Name: Fibonacci Sequence\n",
    "# Purpose:Enter a number and have the program generate the\n",
    "# Fibonacci sequence to that number or  to the Nth number."
   ]
  },
  {
   "cell_type": "code",
   "execution_count": 27,
   "metadata": {},
   "outputs": [
    {
     "name": "stdout",
     "output_type": "stream",
     "text": [
      "How many numbers do you want?15\n",
      "0,1,1,2,3,5,8,13,21,34,55,89,144,233,377\n"
     ]
    }
   ],
   "source": [
    "def fibSeq(n):\n",
    "    \n",
    "    series = [0]\n",
    "    \n",
    "    while len(series) < n:\n",
    "        if len(series) == 1:\n",
    "            series.append(1)\n",
    "        else:\n",
    "            series.append(series[-1] + series[-2])\n",
    "    for i in range(len(series)):\n",
    "        series[i] = str(series[i])\n",
    "    return (','.join(series))\n",
    "\n",
    "def main():\n",
    "    \n",
    "    print(fibSeq(int(input('How many numbers do you want?'))))\n",
    "\n",
    "if __name__ == '__main__':\n",
    "    \n",
    "    main()"
   ]
  },
  {
   "cell_type": "code",
   "execution_count": null,
   "metadata": {},
   "outputs": [],
   "source": []
  }
 ],
 "metadata": {
  "kernelspec": {
   "display_name": "Python 3",
   "language": "python",
   "name": "python3"
  },
  "language_info": {
   "codemirror_mode": {
    "name": "ipython",
    "version": 3
   },
   "file_extension": ".py",
   "mimetype": "text/x-python",
   "name": "python",
   "nbconvert_exporter": "python",
   "pygments_lexer": "ipython3",
   "version": "3.7.4"
  }
 },
 "nbformat": 4,
 "nbformat_minor": 2
}
